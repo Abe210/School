{
 "cells": [
  {
   "cell_type": "markdown",
   "metadata": {},
   "source": [
    "# Exercices de TD sur les codes secrets"
   ]
  },
  {
   "cell_type": "markdown",
   "metadata": {},
   "source": [
    "## Utilisation de Jupyter Notebook\n",
    "\n",
    "Le principe est simple : \n",
    " - Chaque notebook est constitué d’une liste de **cellules**\n",
    " - Chacune peut contenir du **texte formaté** ou du **code** (Python, dans notre cas)\n",
    " - On **exécute** une cellule de code -> le résultat s’affiche sous la cellule\n",
    "\n",
    "Cliquez sur le menu **Help** > **User Interface Tour** pour un tour rapide de l’interface.    \n",
    "\n",
    "Pour vous entraîner :\n",
    "- **Insérez** quelques cellules de code au début du notebook\n",
    "- Exécutez quelques commandes Python, telles que **print(\"Hello world!\")** :\n",
    "    - Cliquez dans une cellule de code et saisissez le code à exécuter\n",
    "    - Exécutez le code de la cellule en tapant Shift-Entrée ou en cliquant sur le bouton d’exécution\n",
    "    \n",
    "Lorsque vous **cliquez** à l’intérieur d’une cellule, vous passez en mode **édition** (la cellule est alors encadrée en *vert*). Lorsque vous tapez la **touche Echap** (Esc) ou que vous cliquez juste à gauche de la cellule, vous passez en mode **commande** (la cellule est alors encadrée en *bleu*). \n",
    "\n",
    "Lorsque vous êtes en **mode commande**, tapez la **touche H** pour afficher les nombreux **raccourcis clavier** disponibles"
   ]
  },
  {
   "cell_type": "markdown",
   "metadata": {},
   "source": [
    "## 1 - Scytale\n",
    "\n",
    "![](https://upload.wikimedia.org/wikipedia/commons/thumb/5/51/Skytale.png/260px-Skytale.png)\n",
    "\n",
    "Le code ci-dessous permet de chiffrer/déchiffrer un message avec la méthode du Scytale. \n",
    "\n",
    "Ces fonctions ne fonctionnent que lorsque la longueur de votre texte en clair/chiffré est divisible par le nombre de lignes. Une approche pour que le schéma fonctionne dans tous les cas pourrait être d'étendre le texte avec des caractères aléatoires lorsque sa longueur n'est pas divisible par des rangées. Notez que vous pouvez essentiellement utiliser la fonction de cryptage pour décrypter également (comme vous pouvez le voir dans le code). Juste pour être sûr, j'espère que vous êtes conscient du fait que ce schéma de cryptage est extrêmement facile à casser. Vous ne devriez jamais l'utiliser dans la pratique !"
   ]
  },
  {
   "cell_type": "code",
   "execution_count": 1,
   "metadata": {},
   "outputs": [],
   "source": [
    "def encrypt(rows, plaintext):\n",
    "    assert len(plaintext) % rows == 0\n",
    "    n = len(plaintext)\n",
    "    columns = n // rows\n",
    "    ciphertext = ['-'] * n\n",
    "    for i in range(n):\n",
    "        row = i // columns\n",
    "        col = i % columns\n",
    "        ciphertext[col * rows + row] = plaintext[i]\n",
    "    return \"\".join(ciphertext)\n",
    "\n",
    "def decrypt(rows, ciphertext):\n",
    "    assert len(ciphertext) % rows == 0\n",
    "    return encrypt(len(ciphertext) // rows, ciphertext)"
   ]
  },
  {
   "cell_type": "markdown",
   "metadata": {},
   "source": [
    "### 1.a Chiffrement\n",
    "\n",
    "L'objectif est ici de chiffrer la phrase `Le BUT INFO est le nouveau diplome de référence des IUT` avec une Scytale hexagonale.\n",
    "\n",
    "Compléter le code ci-dessous avec :\n",
    "- Un texte long à chiffrer\n",
    "- L'appel à la bonne fonction pour le chiffrer"
   ]
  },
  {
   "cell_type": "code",
   "execution_count": 13,
   "metadata": {},
   "outputs": [
    {
     "name": "stdout",
     "output_type": "stream",
     "text": [
      "taille du texte non conforme 14 à la place d'un multiple de 4\n"
     ]
    }
   ],
   "source": [
    "# Ecrire un texte\n",
    "texte_a_chiffrer=\"Texte à ecrire\" ## A Compléter!!!!\n",
    "# Nombre de coté de votre Scytale\n",
    "rows = 4 ## A Compléter!!!!\n",
    "# Test pour vérifier le nombre de colonne\n",
    "n = len(texte_a_chiffrer)\n",
    "if (n % rows == 0):\n",
    "    print(\"Texte chiffré :\")\n",
    "    # Appeler la commande pour chiffrer le texte\n",
    "    texte_chiffre=\"a faire\" ## A Compléter!!!!\n",
    "    print(texte_chiffre)\n",
    "else:\n",
    "    print(\"taille du texte non conforme \"+str(n)+\" à la place d'un multiple de \"+str(rows))"
   ]
  },
  {
   "cell_type": "markdown",
   "metadata": {},
   "source": [
    "### 1.b Déchiffrage\n",
    "\n",
    "L'objectif est de déchiffrer le texte `Liuietro a nBbf UlapTevr mooIerfNnieFtssO es crieo osnintcnn usev eleprlrote`\n",
    "\n",
    "Compléter le code ci-dessous avec :\n",
    "- Un texte long à chiffrer\n",
    "- L'appel à la bonne fonction pour le chiffrer"
   ]
  },
  {
   "cell_type": "code",
   "execution_count": 3,
   "metadata": {},
   "outputs": [
    {
     "name": "stdout",
     "output_type": "stream",
     "text": [
      "Texte déchiffré :\n",
      "a faire\n"
     ]
    }
   ],
   "source": [
    "# Ecrire un texte\n",
    "texte_a_dechiffrer=\"Texte à ecrire\" ## A Compléter!!!!\n",
    "# Nombre de coté de votre Scytale\n",
    "rows = 1 ## A Compléter!!!!\n",
    "# Test pour vérifier le nombre de colonne\n",
    "n = len(texte_a_dechiffrer)\n",
    "if (n % rows == 0):\n",
    "    print(\"Texte déchiffré :\")\n",
    "    # Appeler la commande pour chiffrer le texte\n",
    "    texte_dechiffre=\"a faire\" ## A Compléter!!!!\n",
    "    print(texte_dechiffre)\n",
    "else:\n",
    "    print(\"taille du texte non conforme \"+str(n)+\" à la place d'un multiple de \"+str(rows))"
   ]
  },
  {
   "cell_type": "markdown",
   "metadata": {},
   "source": [
    "## 2 - Chiffre de César\n",
    "\n",
    "![](https://seshat.gitlabpages.inria.fr/crypto/fig/cesar.png)\n",
    "\n",
    "Le chiffrement et le déchiffrement du **chiffre César** sont faciles, car la méthode est fixe et aucune clé n'est nécessaire. Ainsi, toute personne connaissant la méthode sera en mesure de décrypter le message facilement.\n",
    "\n",
    "Par exemple, un mot simple comme \"cat\" sera crypté sous la forme \"fdw\", si vous décalez chaque lettre de trois lettres dans l'alphabet. Cela rend le mot \"chat\" difficile à comprendre si vous ne connaissez pas la façon dont il a été crypté.\n",
    "\n",
    "Le programme Python ci-dessous permet de crypter et décrypter du texte chiffré "
   ]
  },
  {
   "cell_type": "code",
   "execution_count": 21,
   "metadata": {},
   "outputs": [],
   "source": [
    "alphabets = 'abcdefghijklmnopqrstuvwxyz'\n",
    "def encrypt_caesar(num, text):\n",
    " results = ' '\n",
    " for k in text.lower():\n",
    "  try:\n",
    "    i = (alphabets.index(k) + num) % 26\n",
    "    results += alphabets[i]\n",
    "  except ValueError:\n",
    "   results+= k\n",
    " return results.lower()\n",
    "\n",
    "def decrypt_caesar(num, text):\n",
    " results = ''\n",
    " for k in text.lower():\n",
    "  try:\n",
    "    i = (alphabets.index(k) - num) % 26\n",
    "    results +=alphabets[i]\n",
    "  except ValueError:\n",
    "   results += k\n",
    " return results.lower()\n"
   ]
  },
  {
   "cell_type": "markdown",
   "metadata": {},
   "source": [
    "### 2.a Chiffrement\n",
    "\n",
    "L'objectif est ici de chiffrer la phrase \"*Le cursus suivi en formation initiale prévoit deux stages professionnels*\" avec un décalage de 3 lettres.\n",
    "\n",
    "Compléter le code ci-dessous avec :\n",
    "- Un texte long à chiffrer\n",
    "- L'appel à la bonne fonction pour le chiffrer"
   ]
  },
  {
   "cell_type": "code",
   "execution_count": 25,
   "metadata": {},
   "outputs": [
    {
     "name": "stdout",
     "output_type": "stream",
     "text": [
      "Texte codé a completer\n"
     ]
    }
   ],
   "source": [
    "num = 0 # Mettre le décalage\n",
    "text= \"a\"  #Entrer le texte à coder\n",
    "ciphertext = \"a completer\" \n",
    "print(\"Texte codé\",ciphertext)"
   ]
  },
  {
   "cell_type": "markdown",
   "metadata": {},
   "source": [
    "### 2.b Déchiffrage\n",
    "\n",
    "L'objectif est de déchiffrer le texte `h s pzzbl kb iba slz kpwsvtlz wlbclua wvbyzbpcyl slbyz labklz la pualnyly slz mvythapvuz lu thzaly`\n",
    "\n",
    "Compléter le code ci-dessous avec :\n",
    "- Un texte long à déchiffrer\n",
    "- L'appel à la bonne fonction pour le déchiffrer"
   ]
  },
  {
   "cell_type": "code",
   "execution_count": 27,
   "metadata": {},
   "outputs": [
    {
     "name": "stdout",
     "output_type": "stream",
     "text": [
      "texte décodé A completer\n"
     ]
    }
   ],
   "source": [
    "num = 0 # Mettre le décalage\n",
    "text= \"a\"  #Entrer le texte à décoder\n",
    "ciphertext = \"A completer\"\n",
    "print(\"texte décodé : \",ciphertext)"
   ]
  },
  {
   "cell_type": "markdown",
   "metadata": {},
   "source": [
    "## 3 - Chiffre de Végenère"
   ]
  },
  {
   "cell_type": "markdown",
   "metadata": {},
   "source": [
    "![](https://upload.wikimedia.org/wikipedia/commons/thumb/1/1a/Vigenere.jpg/220px-Vigenere.jpg)\n",
    "\n",
    "1. Tout d'abord, une clé est générée à l'aide d'un mot-clé si la longueur du message n'est pas égale au mot-clé.\n",
    "\n",
    "2. Utilisez la fonction generateKey pour générer la clé. Le mot clé est ajouté à lui-même jusqu'à ce que la longueur du message soit égale à la longueur de la clé.\n",
    "\n",
    "3. Une fois la clé générée, utilisez la fonction encryption() pour crypter le message qui prend deux arguments : l'un est le message qui doit être crypté et le second est la clé qui renvoie le texte crypté.\n",
    "\n",
    "4. Dans la fonction de cryptage, le message et la clé sont ajoutés modulo 26.\n",
    "\n",
    "5. Utilisez la fonction de décryptage pour décrypter le message crypté. Elle prend deux arguments : l'un est le texte crypté et le second est la clé utilisée pour le cryptage.\n",
    "\n",
    "6. Dans la fonction de décryptage, le texte crypté et la clé sont soustraits, puis additionnés modulo 26."
   ]
  },
  {
   "cell_type": "code",
   "execution_count": 32,
   "metadata": {},
   "outputs": [],
   "source": [
    "def generateKey(string, key): \n",
    "  key = list(key) \n",
    "  if len(string) == len(key): \n",
    "    return(key) \n",
    "  else: \n",
    "    for i in range(len(string) -len(key)): \n",
    "      key.append(key[i % len(key)]) \n",
    "  return(\"\" . join(key)) \n",
    "  \n",
    "def encryption(string, key): \n",
    "  encrypt_text = [] \n",
    "  for i in range(len(string)): \n",
    "    x = (ord(string[i]) +ord(key[i])) % 26\n",
    "    x += ord('A') \n",
    "    encrypt_text.append(chr(x)) \n",
    "  return(\"\" . join(encrypt_text)) \n",
    "\n",
    "def decryption(encrypt_text, key): \n",
    "  orig_text = [] \n",
    "  for i in range(len(encrypt_text)): \n",
    "    x = (ord(encrypt_text[i]) -ord(key[i]) + 26) % 26\n",
    "    x += ord('A') \n",
    "    orig_text.append(chr(x)) \n",
    "  return(\"\" . join(orig_text)) "
   ]
  },
  {
   "cell_type": "code",
   "execution_count": 35,
   "metadata": {},
   "outputs": [
    {
     "name": "stdout",
     "output_type": "stream",
     "text": [
      "Encrypted message: BXFQANGULTBRZFEYUIFJRFXHVAJST\n",
      "Decrypted message: ADMINISTRATEURDEBASEDEDONNEES\n"
     ]
    }
   ],
   "source": [
    "string = 'ADMINISTRATEURDEBASEDEDONNEES'\n",
    "keyword = 'BUTINFO'\n",
    "key = generateKey(string, keyword)\n",
    "encrypt_text = encryption(string,key) \n",
    "print(\"Encrypted message:\", encrypt_text) \n",
    "print(\"Decrypted message:\", decryption(encrypt_text, key))"
   ]
  },
  {
   "cell_type": "markdown",
   "metadata": {},
   "source": [
    "### 3.a Chiffrement\n",
    "\n",
    "L'objectif est ici de chiffrer la phrase `LEBUTENALTERNANCESEFFECTUEAPARTIRDELADEUXIEMEANNEE` avec la clé `BUTINFO`.\n",
    "\n",
    "Compléter le code ci-dessous avec :\n",
    "- Un texte long à chiffrer\n",
    "- L'appel à la bonne fonction pour le chiffrer"
   ]
  },
  {
   "cell_type": "code",
   "execution_count": 36,
   "metadata": {},
   "outputs": [
    {
     "name": "stdout",
     "output_type": "stream",
     "text": [
      "Encrypted message: A COMPLETER\n"
     ]
    }
   ],
   "source": [
    "string = 'AAA'\n",
    "keyword = 'ABC'\n",
    "key = generateKey(string, keyword)\n",
    "encrypt_text = \"A COMPLETER\" \n",
    "print(\"Encrypted message:\", encrypt_text) "
   ]
  },
  {
   "cell_type": "markdown",
   "metadata": {},
   "source": [
    "### 3.b Déchiffrement\n",
    "\n",
    "L'objectif est de déchiffrer le texte `BXFQANGULTBRZFEYUIFJRFXHVAJST` qui a été chiffré avec la même clé que précedemment.\n",
    "\n",
    "Compléter le code ci-dessous avec :\n",
    "- Un texte long à déchiffrer\n",
    "- L'appel à la bonne fonction pour le déchiffrer"
   ]
  },
  {
   "cell_type": "code",
   "execution_count": null,
   "metadata": {},
   "outputs": [
    {
     "name": "stdout",
     "output_type": "stream",
     "text": [
      "Encrypted message: A COMPLETER\n"
     ]
    }
   ],
   "source": [
    "string = 'AAA'\n",
    "keyword = 'ABC'\n",
    "key = generateKey(string, keyword)\n",
    "decrypt_text = \"A COMPLETER\" \n",
    "print(\"Decrypted message:\", decrypt_text) "
   ]
  },
  {
   "cell_type": "code",
   "execution_count": 37,
   "metadata": {},
   "outputs": [
    {
     "name": "stdout",
     "output_type": "stream",
     "text": [
      "Encrypted message: ADMINISTRATEURDEBASEDEDONNEES\n"
     ]
    }
   ],
   "source": [
    "string = 'BXFQANGULTBRZFEYUIFJRFXHVAJST'\n",
    "keyword = 'BUTINFO'\n",
    "key = generateKey(string, keyword)\n",
    "decrypt_text = decryption(string,key) \n",
    "print(\"Encrypted message:\", decrypt_text) "
   ]
  },
  {
   "cell_type": "markdown",
   "metadata": {},
   "source": [
    "## 4 - Enigma"
   ]
  },
  {
   "cell_type": "markdown",
   "metadata": {},
   "source": [
    "![](https://upload.wikimedia.org/wikipedia/commons/thumb/3/31/Enigma-IMG_0484-black.jpg/220px-Enigma-IMG_0484-black.jpg)"
   ]
  },
  {
   "cell_type": "markdown",
   "metadata": {},
   "source": [
    "- Installer le package python disponible [ici](https://pypi.org/project/enigma-simulator/)\n",
    "- Nous allons utiliser les mêmes paramètres de configuration :\n",
    "```\n",
    "enigma1 = Enigma([\"I\", \"II\", \"III\"], [1, 1, 1], \"B\", \"AD\", [0, 0, 0])\n",
    "```"
   ]
  },
  {
   "cell_type": "markdown",
   "metadata": {},
   "source": [
    "### 3.a Chiffrement\n",
    "\n",
    "L'objectif est ici de chiffrer la phrase \"*DEVELOPPEURBACKENDFRONTEND*\" avec une machine Enigma virtuelle ."
   ]
  },
  {
   "cell_type": "code",
   "execution_count": null,
   "metadata": {},
   "outputs": [],
   "source": [
    "## Mettre le code ici"
   ]
  },
  {
   "cell_type": "markdown",
   "metadata": {},
   "source": [
    "### 3.b Déchiffrement\n",
    "\n",
    "L'objectif est de déchiffrer le texte \"*IOXZFRJBBNJPLVSIMMILLOEIIXHGMTZOI*\" "
   ]
  },
  {
   "cell_type": "code",
   "execution_count": null,
   "metadata": {},
   "outputs": [],
   "source": [
    "## Mettre le code ici"
   ]
  },
  {
   "cell_type": "markdown",
   "metadata": {},
   "source": [
    "## Cryptographie à clé asymétrique"
   ]
  },
  {
   "cell_type": "code",
   "execution_count": 8,
   "metadata": {},
   "outputs": [],
   "source": [
    "from Crypto.PublicKey import RSA\n",
    "key = RSA.generate(3072)\n",
    "file= open('Rsakey.pem','wb')\n",
    "file.write(key.exportKey('PEM'))\n",
    "file.close()"
   ]
  },
  {
   "cell_type": "markdown",
   "metadata": {},
   "source": [
    "## Table de hashage"
   ]
  },
  {
   "cell_type": "code",
   "execution_count": 9,
   "metadata": {},
   "outputs": [
    {
     "name": "stdout",
     "output_type": "stream",
     "text": [
      "{'sha3_224', 'dsaEncryption', 'sha224', 'blake2b', 'GOST R 34.11-2012 (256 bit)', 'sha384', 'shake_128', 'whirlpool', 'shake_256', 'md5', 'blake2s', 'GOST R 34-11-2012 (512 bit)', 'sha3_384', 'dsaWithSHA', 'GOST R 34.11-94', 'md4', 'sha3_256', 'sha256', 'sha3_512', 'md5-sha1', 'sha512', 'ecdsa-with-SHA1', 'sha1', 'ripemd160', 'GOST 28147-89 MAC'}\n"
     ]
    }
   ],
   "source": [
    "import hashlib\n",
    "Hash_Algorithms_available = hashlib.algorithms_available\n",
    "print(Hash_Algorithms_available)\n",
    "\n",
    "Output: {'sha256', 'md4', 'whirlpool', 'sha384', 'sha224', 'sm3', 'blake2s', 'blake2b', 'ripemd160', 'sha512_256', 'md5', 'sha512_224', 'shake_128', 'sha512', 'sha1', 'sha3_384', 'sha3_256', 'sha3_512', 'md5-sha1', 'shake_256', 'sha3_224'}"
   ]
  }
 ],
 "metadata": {
  "kernelspec": {
   "display_name": "Python 3.8.9 64-bit",
   "language": "python",
   "name": "python3"
  },
  "language_info": {
   "codemirror_mode": {
    "name": "ipython",
    "version": 3
   },
   "file_extension": ".py",
   "mimetype": "text/x-python",
   "name": "python",
   "nbconvert_exporter": "python",
   "pygments_lexer": "ipython3",
   "version": "3.8.9"
  },
  "orig_nbformat": 4,
  "vscode": {
   "interpreter": {
    "hash": "31f2aee4e71d21fbe5cf8b01ff0e069b9275f58929596ceb00d14d90e3e16cd6"
   }
  }
 },
 "nbformat": 4,
 "nbformat_minor": 2
}
